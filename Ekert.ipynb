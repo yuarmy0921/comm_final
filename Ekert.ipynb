{
 "cells": [
  {
   "cell_type": "code",
   "execution_count": 2,
   "id": "e7b40631",
   "metadata": {},
   "outputs": [],
   "source": [
    "import qiskit\n",
    "import numpy as np\n",
    "from qiskit import *\n",
    "from math import pi"
   ]
  },
  {
   "cell_type": "code",
   "execution_count": 3,
   "id": "89864c1d",
   "metadata": {},
   "outputs": [],
   "source": [
    "class CHSH_game:\n",
    "    def __init__(self, rounds, eavesdrop=False):\n",
    "        self.rounds = rounds\n",
    "        self.eavesdrop = eavesdrop\n",
    "        self.choices = [None, None]\n",
    "        self.basis = [[0, pi/8, pi/4], [0, pi/8, -pi/8], [0, 0, 0]]\n",
    "        self.game = [None]\n",
    "        self.output = [[], []]\n",
    "        if eavesdrop: \n",
    "            self.choices.append(None)\n",
    "            self.output.append([])\n",
    "        \n",
    "    def create_round(self):\n",
    "        alice = QuantumRegister(1, 'alice')\n",
    "        bob = QuantumRegister(1, 'bob')\n",
    "        m_a = ClassicalRegister(1, 'm_a')\n",
    "        m_b = ClassicalRegister(1, 'm_b')\n",
    "        if not self.eavesdrop:\n",
    "            qc = QuantumCircuit(alice, bob, m_a, m_b)\n",
    "        else:\n",
    "            eve = QuantumRegister(1, 'eve')\n",
    "            m_e = ClassicalRegister(1, 'm_e')\n",
    "            qc = QuantumCircuit(alice, bob, eve, m_a, m_b, m_e)\n",
    "        return qc\n",
    "    \n",
    "    def create_epr(self, qc):\n",
    "        epr = QuantumCircuit(2)\n",
    "        epr.h(0)\n",
    "        epr.cx(0, 1)\n",
    "        qc.compose(epr, qubits=[0, 1], inplace=True)\n",
    "        \n",
    "    def create_eavesdropper(self, qc):\n",
    "        entanglement = QuantumCircuit(2)\n",
    "        entanglement.cx(0, 1)\n",
    "        qc.compose(entanglement, qubits=[1, 2], inplace=True)\n",
    "        \n",
    "    def create_entanglement(self):\n",
    "        pass\n",
    "    \n",
    "    def gen_random_choice(self, length):\n",
    "        from os import urandom\n",
    "        choice = [int.from_bytes(urandom(1), 'big') % 3 for _ in range(length)]\n",
    "        return choice\n",
    "    \n",
    "    def measure(self, player): # player = 0 / 1: Alice / Bob\n",
    "        if player != 2:\n",
    "            choice = self.gen_random_choice(self.rounds)\n",
    "        else:\n",
    "            choice = [0] * self.rounds # Eve should choose a strategy\n",
    "        self.choices[player] = choice\n",
    "        for i, c in enumerate(choice):\n",
    "            basis = self.basis[player][c]\n",
    "            self.game[i].ry(basis, player)\n",
    "            self.game[i].measure(player, player)\n",
    "            \n",
    "    def retrieve_output(self):\n",
    "        qasm_simulator = Aer.get_backend('qasm_simulator')\n",
    "        for qc in self.game:\n",
    "            result = execute(qc, qasm_simulator, shots=1, memory=True).result()\n",
    "            memory = result.get_memory()[0].split()\n",
    "            measured_bit_0 = int(memory[0])\n",
    "            measured_bit_1 = int(memory[1])\n",
    "            self.output[0].append(measured_bit_0)\n",
    "            self.output[1].append(measured_bit_1)\n",
    "            \n",
    "    def evaluate(self):\n",
    "        # TODO: CHSH inequality\n",
    "        pass\n",
    "    \n",
    "    def init(self):\n",
    "        self.game = [self.create_round() for _ in range(self.rounds)]\n",
    "        for qc in self.game:\n",
    "            self.create_epr(qc)\n",
    "            if self.eavesdrop:\n",
    "                self.create_eavesdropper(qc)\n",
    "            \n",
    "    def start(self):\n",
    "        self.init()\n",
    "        self.measure(0) # Alice measure\n",
    "        self.measure(1) # Bob measure\n",
    "        if self.eavesdrop: self.measure(2) # Eve measure\n",
    "        self.retrieve_output()\n",
    "        self.evaluate()"
   ]
  },
  {
   "cell_type": "code",
   "execution_count": 4,
   "id": "cffa5d6c",
   "metadata": {},
   "outputs": [],
   "source": [
    "rounds = 1000\n",
    "game = CHSH_game(rounds, True)\n",
    "game.start()"
   ]
  },
  {
   "cell_type": "code",
   "execution_count": 5,
   "id": "1ddf2471",
   "metadata": {},
   "outputs": [
    {
     "data": {
      "text/html": [
       "<pre style=\"word-wrap: normal;white-space: pre;background: #fff0;line-height: 1.1;font-family: &quot;Courier New&quot;,Courier,monospace\">       ┌───┐     ┌───────┐┌─┐                  \n",
       "alice: ┤ H ├──■──┤ Ry(0) ├┤M├──────────────────\n",
       "       └───┘┌─┴─┐└───────┘└╥┘┌──────────┐┌─┐   \n",
       "  bob: ─────┤ X ├────■─────╫─┤ Ry(-π/8) ├┤M├───\n",
       "            └───┘  ┌─┴─┐   ║ └┬───────┬─┘└╥┘┌─┐\n",
       "  eve: ────────────┤ X ├───╫──┤ Ry(0) ├───╫─┤M├\n",
       "                   └───┘   ║  └───────┘   ║ └╥┘\n",
       "m_a: 1/════════════════════╩══════════════╬══╬═\n",
       "                           0              ║  ║ \n",
       "                                          ║  ║ \n",
       "m_b: 1/═══════════════════════════════════╩══╬═\n",
       "                                          0  ║ \n",
       "                                             ║ \n",
       "m_e: 1/══════════════════════════════════════╩═\n",
       "                                             0 </pre>"
      ],
      "text/plain": [
       "       ┌───┐     ┌───────┐┌─┐                  \n",
       "alice: ┤ H ├──■──┤ Ry(0) ├┤M├──────────────────\n",
       "       └───┘┌─┴─┐└───────┘└╥┘┌──────────┐┌─┐   \n",
       "  bob: ─────┤ X ├────■─────╫─┤ Ry(-π/8) ├┤M├───\n",
       "            └───┘  ┌─┴─┐   ║ └┬───────┬─┘└╥┘┌─┐\n",
       "  eve: ────────────┤ X ├───╫──┤ Ry(0) ├───╫─┤M├\n",
       "                   └───┘   ║  └───────┘   ║ └╥┘\n",
       "m_a: 1/════════════════════╩══════════════╬══╬═\n",
       "                           0              ║  ║ \n",
       "                                          ║  ║ \n",
       "m_b: 1/═══════════════════════════════════╩══╬═\n",
       "                                          0  ║ \n",
       "                                             ║ \n",
       "m_e: 1/══════════════════════════════════════╩═\n",
       "                                             0 "
      ]
     },
     "execution_count": 5,
     "metadata": {},
     "output_type": "execute_result"
    }
   ],
   "source": [
    "game.game[0].draw()"
   ]
  },
  {
   "cell_type": "code",
   "execution_count": null,
   "id": "e10b7164",
   "metadata": {},
   "outputs": [],
   "source": []
  }
 ],
 "metadata": {
  "kernelspec": {
   "display_name": "Python 3 (ipykernel)",
   "language": "python",
   "name": "python3"
  },
  "language_info": {
   "codemirror_mode": {
    "name": "ipython",
    "version": 3
   },
   "file_extension": ".py",
   "mimetype": "text/x-python",
   "name": "python",
   "nbconvert_exporter": "python",
   "pygments_lexer": "ipython3",
   "version": "3.10.4"
  }
 },
 "nbformat": 4,
 "nbformat_minor": 5
}
