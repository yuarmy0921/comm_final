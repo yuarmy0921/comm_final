{
 "cells": [
  {
   "cell_type": "code",
   "execution_count": 1,
   "id": "e7b40631",
   "metadata": {},
   "outputs": [],
   "source": [
    "import qiskit\n",
    "import numpy as np\n",
    "from qiskit import *\n",
    "from math import pi\n",
    "from os import urandom"
   ]
  },
  {
   "cell_type": "code",
   "execution_count": 21,
   "id": "89864c1d",
   "metadata": {},
   "outputs": [],
   "source": [
    "class CHSH_game:\n",
    "    def __init__(self, rounds, eavesdrop=0, key_noise=0, meas_noise=0, ch_noise=0): # eavesdrop = (0: none); (1: triplet entanglement); (2: intercept-resend)\n",
    "        self.rounds = rounds\n",
    "        self.eavesdrop = eavesdrop\n",
    "        self.choices = [None, None]\n",
    "        self.key_noise = key_noise\n",
    "        self.meas_noise = meas_noise\n",
    "        self.ch_noise = ch_noise\n",
    "#         self.basis = [[0, pi/8, pi/4], [0, pi/8, -pi/8], [0, 0, 0]]\n",
    "        self.basis = [[0, pi/4, pi/2], [0, pi/4, -pi/4], [0, 0, 0]]\n",
    "        self.game = [None]\n",
    "        self.output = [[], []]\n",
    "        self.key = [[], []]\n",
    "        self.raw_key = [[], []]\n",
    "        self.s_val = 0\n",
    "        if eavesdrop == 1: # three qubits entanglement\n",
    "            self.choices.append(None)\n",
    "            self.output.append([])\n",
    "            self.key.append([])\n",
    "        elif eavesdrop == 2: # intercept-resend\n",
    "            self.choices.append(None)\n",
    "            self.basis[2] = [0, pi/4]\n",
    "            self.output.extend([[], []])\n",
    "            self.key.extend([[], []])\n",
    "    \n",
    "    def key_noise_process(self):\n",
    "        for u in [0,1]:\n",
    "            for i in range(len(self.raw_key[u])):\n",
    "                flip = np.random.choice(2, 1, p = [1-self.key_noise, self.key_noise])\n",
    "                if flip == 0:\n",
    "                    self.key[u].append(self.raw_key[u][i])\n",
    "                elif flip == 1:\n",
    "                    if self.raw_key[u][i] == 0:\n",
    "                        self.key[u].append(1)\n",
    "                    elif self.raw_key[u][i] == 1:\n",
    "                        self.key[u].append(0)\n",
    "                \n",
    "        \n",
    "    def create_round(self):\n",
    "        alice = QuantumRegister(1, 'alice')\n",
    "        bob = QuantumRegister(1, 'bob')\n",
    "        m_a = ClassicalRegister(1, 'm_a')\n",
    "        m_b = ClassicalRegister(1, 'm_b')\n",
    "        if self.eavesdrop == 0:\n",
    "            qc = QuantumCircuit(alice, bob, m_a, m_b)\n",
    "        elif self.eavesdrop == 1:\n",
    "            eve = QuantumRegister(1, 'eve')\n",
    "            m_e = ClassicalRegister(1, 'm_e')\n",
    "            qc = QuantumCircuit(alice, bob, eve, m_a, m_b, m_e)\n",
    "        return qc\n",
    "    \n",
    "    def create_epr(self, qc):\n",
    "        epr = QuantumCircuit(2)\n",
    "        epr.h(0)\n",
    "        epr.cx(0, 1)\n",
    "        \n",
    "        ##add channel noise\n",
    "        break_ent = np.random.choice(2, 1, p = [1-self.ch_noise, self.ch_noise])\n",
    "        if break_ent == 1:\n",
    "            epr.h(0)\n",
    "        \n",
    "        qc.compose(epr, qubits=[0, 1], inplace=True)\n",
    "        \n",
    "        \n",
    "    def create_eavesdropper(self, qc):\n",
    "        entanglement = QuantumCircuit(2)\n",
    "        entanglement.cx(0, 1)\n",
    "        qc.compose(entanglement, qubits=[1, 2], inplace=True)\n",
    "        \n",
    "    def create_entanglement(self):\n",
    "        pass\n",
    "    \n",
    "    def gen_random_choice(self, length):\n",
    "#         from os import urandom\n",
    "        choice = [int.from_bytes(urandom(1), 'big') % 3 for _ in range(length)]\n",
    "        return choice\n",
    "    \n",
    "    def measure(self, player): # player = 0 / 1: Alice / Bob\n",
    "        if player != 2:\n",
    "            choice = self.gen_random_choice(self.rounds)\n",
    "        else:\n",
    "            if self.eavesdrop == 1:\n",
    "                choice = [0] * self.rounds # Eve should choose a strategy\n",
    "        self.choices[player] = choice\n",
    "        for i, c in enumerate(choice):\n",
    "            basis = self.basis[player][c]\n",
    "            self.game[i].ry(basis, player)\n",
    "            self.game[i].measure(player, player)\n",
    "            \n",
    "    def retrieve_output(self):\n",
    "        qasm_simulator = Aer.get_backend('qasm_simulator')\n",
    "        for qc in self.game:\n",
    "            result = execute(qc, qasm_simulator, shots=1, memory=True).result()\n",
    "            memory = result.get_memory()[0].split()\n",
    "            measured_bit_0 = int(memory[0])\n",
    "            measured_bit_1 = int(memory[1])\n",
    "            \n",
    "            ##add measurement noise\n",
    "            flipm = np.random.choice(2, 2, p = [1-self.meas_noise, self.meas_noise])\n",
    "            if flipm[0] == 1:\n",
    "                if measured_bit_0 == 0:\n",
    "                    measured_bit_0 = 1\n",
    "                else:\n",
    "                    measured_bit_0 = 0\n",
    "            if flipm[1] == 1:\n",
    "                if measured_bit_1 == 0:\n",
    "                    measured_bit_1 = 1\n",
    "                else:\n",
    "                    measured_bit_1 = 0\n",
    "           \n",
    "            self.output[0].append(measured_bit_0)\n",
    "            self.output[1].append(measured_bit_1)\n",
    "            if self.eavesdrop == 1:\n",
    "                measured_bit_2 = int(memory[2])\n",
    "                self.output[2].append(measured_bit_2)\n",
    "            \n",
    "    def evaluate(self):\n",
    "        # TODO: CHSH inequality\n",
    "        test = [[], [], [], []] #01+02+21-22\n",
    "        for i in range(self.rounds):\n",
    "            if self.choices[0][i] == self.choices[1][i] and self.choices[0][i] != 2:\n",
    "                self.raw_key[0].append(self.output[0][i])\n",
    "                self.raw_key[1].append(self.output[1][i])\n",
    "                if self.eavesdrop == 1:\n",
    "                    self.key[2].append(self.output[2][i])\n",
    "                elif self.eavesdrop == 2:\n",
    "                    self.key[2].append(self.output[2][i])\n",
    "                    self.key[3].append(self.output[3][i])\n",
    "                continue\n",
    "            ans = (-1) ** (self.output[0][i] + self.output[1][i])\n",
    "            if self.choices[0][i] == 0 and self.choices[1][i] == 1:\n",
    "                test[0].append(ans)\n",
    "            elif self.choices[0][i] == 0 and self.choices[1][i] == 2:\n",
    "                test[1].append(ans)\n",
    "            elif self.choices[0][i] == 2 and self.choices[1][i] == 1:\n",
    "                test[2].append(ans)\n",
    "            elif self.choices[0][i] == 2 and self.choices[1][i] == 2:\n",
    "                test[3].append(ans)\n",
    "                \n",
    "        self.key_noise_process()\n",
    "        \n",
    "        avg = [0, 0, 0, 0]\n",
    "        for i in range(4):\n",
    "            item = test[i]\n",
    "            if len(item) > 0:\n",
    "                avg[i] = sum(item)/len(item)\n",
    "        self.s_val = abs(sum(avg) - 2*avg[3])\n",
    "#         print(avg)\n",
    "        if self.s_val > 2:\n",
    "            print (\"Pass CHSH test! s value = %f\" % self.s_val)\n",
    "            diff = sum(list(a^b for a,b in zip(game.key[0],game.key[1])))\n",
    "            print(\"Key length = %d\" %len(game.key[0]))\n",
    "            if diff > 0:\n",
    "                print(\" Key mismatach! diff: %d/%d\" %(diff, len(game.key[0])))\n",
    "        else:\n",
    "            print (\"Fail CHSH test! s value = %f\" % self.s_val)\n",
    "            diff_ab = sum(list(a^b for a,b in zip(game.key[0],game.key[1])))\n",
    "            print(\"Key length = %d\" %len(game.key[0]))\n",
    "            if self.eavesdrop == 1:\n",
    "                diff_ae = sum(list(a^b for a,b in zip(game.key[0],game.key[2])))\n",
    "                diff_be = sum(list(a^b for a,b in zip(game.key[1],game.key[2])))\n",
    "                print(\"Key mismatch: %d (a, b), %d (a, e), %d (b, e)\" % (diff_ab, diff_ae, diff_be))\n",
    "            elif self.eavesdrop == 2:\n",
    "                diff_ae = sum(list(a^b for a,b in zip(game.key[0],game.key[2])))\n",
    "                diff_be = sum(list(a^b for a,b in zip(game.key[1],game.key[3])))\n",
    "                print(\"Key mismatch: %d (a, b), %d (a, e), %d (b, e)\" % (diff_ab, diff_ae, diff_be))\n",
    "    \n",
    "    def init(self):\n",
    "        self.game = [self.create_round() for _ in range(self.rounds)]\n",
    "        for qc in self.game:\n",
    "            self.create_epr(qc)\n",
    "            if self.eavesdrop == 1:\n",
    "                self.create_eavesdropper(qc)\n",
    "            qc.barrier()\n",
    "            \n",
    "    # ============================ for intercept-resend ==============================\n",
    "    def create_init(self):\n",
    "        ca = QuantumRegister(1, 'charlie_a')\n",
    "        cb = QuantumRegister(1, 'charlie_b')\n",
    "        m_ea = ClassicalRegister(1, 'm_ea')\n",
    "        m_eb = ClassicalRegister(1, 'm_eb')\n",
    "        qc = QuantumCircuit(ca, cb, m_ea, m_eb)\n",
    "        self.create_epr(qc)\n",
    "        qc.barrier()\n",
    "        return qc\n",
    "\n",
    "    def measure_eve(self):\n",
    "        choice = [int.from_bytes(urandom(1), 'big') % 2 for _ in range(self.rounds)]\n",
    "        self.choices[2] = choice\n",
    "        for i, c in enumerate(choice):\n",
    "            basis = self.basis[2][c]\n",
    "            self.game[i].ry(basis, 0)\n",
    "            self.game[i].ry(basis, 1)\n",
    "            self.game[i].measure(0, 0)\n",
    "            self.game[i].measure(1, 1)\n",
    "            \n",
    "    def store_eve(self):\n",
    "        qasm_simulator = Aer.get_backend('qasm_simulator')\n",
    "        for qc in self.game:\n",
    "            result = execute(qc, qasm_simulator, shots=1, memory=True).result()\n",
    "            memory = result.get_memory()[0].split()\n",
    "            measured_bit_0 = int(memory[0])\n",
    "            measured_bit_1 = int(memory[1])\n",
    "            self.output[2].append(measured_bit_0)\n",
    "            self.output[3].append(measured_bit_1)\n",
    "    \n",
    "    def create_fake(self):\n",
    "        fa = QuantumRegister(1, 'fake_alice')\n",
    "        fb = QuantumRegister(1, 'fake_bob')\n",
    "        m_a = ClassicalRegister(1, 'm_a')\n",
    "        m_b = ClassicalRegister(1, 'm_b')\n",
    "        qc = QuantumCircuit(fa, fb, m_a, m_b)\n",
    "        return qc\n",
    "        \n",
    "    def resend(self):\n",
    "        self.game = [self.create_fake() for _ in range(self.rounds)]\n",
    "        for i in range(self.rounds):\n",
    "            if self.output[2][i]:\n",
    "                self.game[i].x(0)\n",
    "            if self.output[3][i]:\n",
    "                self.game[i].x(1)\n",
    "            self.game[i].barrier()\n",
    "    \n",
    "    def intercept_resend(self):\n",
    "        self.game = [self.create_init() for _ in range(self.rounds)]\n",
    "        self.measure_eve()\n",
    "        self.store_eve()\n",
    "        self.resend()\n",
    "    # ================================================================================\n",
    "    def start(self):\n",
    "        if self.eavesdrop == 2:\n",
    "            self.intercept_resend()\n",
    "        else:\n",
    "            self.init()\n",
    "        self.measure(0) # Alice measure\n",
    "        self.measure(1) # Bob measure\n",
    "        if self.eavesdrop == 1: \n",
    "            self.measure(2) # Eve measure\n",
    "        self.retrieve_output()\n",
    "        self.evaluate()"
   ]
  },
  {
   "cell_type": "code",
   "execution_count": 24,
   "id": "9cd509dd",
   "metadata": {},
   "outputs": [
    {
     "name": "stdout",
     "output_type": "stream",
     "text": [
      "Pass CHSH test! s value = 2.869782\n",
      "Key length = 232\n"
     ]
    }
   ],
   "source": [
    "rounds = 1000\n",
    "game = CHSH_game(rounds, 0)\n",
    "game.start()"
   ]
  },
  {
   "cell_type": "code",
   "execution_count": 11,
   "id": "cffa5d6c",
   "metadata": {},
   "outputs": [
    {
     "name": "stdout",
     "output_type": "stream",
     "text": [
      "Fail CHSH test! s value = 1.371547\n",
      "Key length = 213\n",
      "Key mismatch: 16 (a, b), 5 (a, e), 19 (b, e)\n"
     ]
    }
   ],
   "source": [
    "rounds = 1000\n",
    "game = CHSH_game(rounds, 1)\n",
    "game.start()"
   ]
  },
  {
   "cell_type": "code",
   "execution_count": 12,
   "id": "0299da01",
   "metadata": {},
   "outputs": [
    {
     "name": "stdout",
     "output_type": "stream",
     "text": [
      "Fail CHSH test! s value = 1.204831\n",
      "Key length = 209\n",
      "Key mismatch: 29 (a, b), 14 (a, e), 19 (b, e)\n"
     ]
    }
   ],
   "source": [
    "rounds = 1000\n",
    "game = CHSH_game(rounds, 2)\n",
    "game.start()"
   ]
  },
  {
   "cell_type": "code",
   "execution_count": 13,
   "id": "1ddf2471",
   "metadata": {},
   "outputs": [
    {
     "data": {
      "image/png": "[encoded data removed]",
      "text/plain": [
       "<Figure size 405.274x264.88 with 1 Axes>"
      ]
     },
     "execution_count": 13,
     "metadata": {},
     "output_type": "execute_result"
    }
   ],
   "source": [
    "game.game[1].draw(output = 'mpl')"
   ]
  },
  {
   "cell_type": "code",
   "execution_count": 33,
   "id": "b075ab85",
   "metadata": {},
   "outputs": [
    {
     "name": "stdout",
     "output_type": "stream",
     "text": [
      "[1, 10, 3]\n"
     ]
    }
   ],
   "source": [
    "a = [1,2,3]\n",
    "for i in range(len(a)):\n",
    "    if a[i] == 2:\n",
    "        a[i] = 10\n",
    "print(a)\n",
    "        "
   ]
  },
  {
   "cell_type": "code",
   "execution_count": 23,
   "id": "6d69b15d",
   "metadata": {},
   "outputs": [
    {
     "name": "stdout",
     "output_type": "stream",
     "text": [
      "Fail CHSH test! s value = 1.902941\n",
      "Key length = 241\n"
     ]
    }
   ],
   "source": [
    "rounds = 1000\n",
    "game = CHSH_game(rounds, 0, 0, 0.1, 0)\n",
    "game.start()"
   ]
  },
  {
   "cell_type": "code",
   "execution_count": null,
   "id": "c95640aa",
   "metadata": {},
   "outputs": [],
   "source": []
  }
 ],
 "metadata": {
  "kernelspec": {
   "display_name": "Python 3 (ipykernel)",
   "language": "python",
   "name": "python3"
  },
  "language_info": {
   "codemirror_mode": {
    "name": "ipython",
    "version": 3
   },
   "file_extension": ".py",
   "mimetype": "text/x-python",
   "name": "python",
   "nbconvert_exporter": "python",
   "pygments_lexer": "ipython3",
   "version": "3.10.4"
  }
 },
 "nbformat": 4,
 "nbformat_minor": 5
}
