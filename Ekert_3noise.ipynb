{
 "cells": [
  {
   "cell_type": "code",
   "execution_count": 1,
   "id": "e7b40631",
   "metadata": {},
   "outputs": [],
   "source": [
    "import qiskit\n",
    "import numpy as np\n",
    "from qiskit import *\n",
    "from math import pi\n",
    "from os import urandom"
   ]
  },
  {
   "cell_type": "code",
   "execution_count": 111,
   "id": "89864c1d",
   "metadata": {},
   "outputs": [],
   "source": [
    "class CHSH_game:\n",
    "    def __init__(self, rounds, eavesdrop=0, key_noise=0, meas_noise=0, ch_noise=0, modified=False, gamma=0, eta=0): # eavesdrop = (0: none); (1: triplet entanglement); (2: intercept-resend)\n",
    "        self.rounds = rounds\n",
    "        self.eavesdrop = eavesdrop\n",
    "        self.choices = [None, None]\n",
    "        self.key_noise = key_noise\n",
    "        self.meas_noise = meas_noise\n",
    "        self.ch_noise = ch_noise\n",
    "        self.modified = modified\n",
    "        self.gamma = gamma\n",
    "        self.eta = eta\n",
    "        self.basis = [[0, pi/4, pi/2], [0, pi/4, -pi/4], [0, 0, 0]]\n",
    "        self.game = [None]\n",
    "        self.output = [[], []]\n",
    "        self.key = [[], []]\n",
    "        self.raw_key = [[], []]\n",
    "        self.s_val = 0\n",
    "        self.abort = False\n",
    "        if eavesdrop == 1: # three qubits entanglement\n",
    "            self.choices.append(None)\n",
    "            self.output.append([])\n",
    "            self.key.append([])\n",
    "        elif eavesdrop == 2: # intercept-resend\n",
    "            self.choices.append(None)\n",
    "            self.basis[2] = [0, pi/4]\n",
    "            self.output.extend([[], []])\n",
    "            self.key.extend([[], []])\n",
    "    \n",
    "    def key_noise_process(self):\n",
    "        for u in [0,1]:\n",
    "            for i in range(len(self.raw_key[u])):\n",
    "                flip = np.random.choice(2, 1, p = [1-self.key_noise, self.key_noise])\n",
    "                if flip == 0:\n",
    "                    self.key[u].append(self.raw_key[u][i])\n",
    "                elif flip == 1:\n",
    "                    if self.raw_key[u][i] == 0:\n",
    "                        self.key[u].append(1)\n",
    "                    elif self.raw_key[u][i] == 1:\n",
    "                        self.key[u].append(0)\n",
    "                \n",
    "        \n",
    "    def create_round(self):\n",
    "        alice = QuantumRegister(1, 'alice')\n",
    "        bob = QuantumRegister(1, 'bob')\n",
    "        m_a = ClassicalRegister(1, 'm_a')\n",
    "        m_b = ClassicalRegister(1, 'm_b')\n",
    "        if self.eavesdrop == 0:\n",
    "            qc = QuantumCircuit(alice, bob, m_a, m_b)\n",
    "        elif self.eavesdrop == 1:\n",
    "            eve = QuantumRegister(1, 'eve')\n",
    "            m_e = ClassicalRegister(1, 'm_e')\n",
    "            qc = QuantumCircuit(alice, bob, eve, m_a, m_b, m_e)\n",
    "        return qc\n",
    "    \n",
    "    def create_epr(self, qc):\n",
    "        epr = QuantumCircuit(2)\n",
    "        epr.h(0)\n",
    "        epr.cx(0, 1)\n",
    "        \n",
    "        ##add channel noise\n",
    "        break_ent = np.random.choice(2, 1, p = [1-self.ch_noise, self.ch_noise])\n",
    "        if break_ent == 1:\n",
    "            epr.h(0)\n",
    "        \n",
    "        qc.compose(epr, qubits=[0, 1], inplace=True)\n",
    "        \n",
    "        \n",
    "    def create_eavesdropper(self, qc):\n",
    "        entanglement = QuantumCircuit(2)\n",
    "        entanglement.cx(0, 1)\n",
    "        qc.compose(entanglement, qubits=[1, 2], inplace=True)\n",
    "    \n",
    "    def gen_random_choice(self, length, options=3):\n",
    "#         from os import urandom\n",
    "        choice = [int.from_bytes(urandom(1), 'big') % options for _ in range(length)]\n",
    "        if options == 2:\n",
    "            choice = [c+1 for c in choice]\n",
    "        return choice\n",
    "    \n",
    "    def gen_test_rounds(self):\n",
    "        return np.random.choice([0, 1], self.rounds, p=[1-self.gamma, self.gamma])\n",
    "    \n",
    "    def measure(self, player): # player = 0 / 1: Alice / Bob\n",
    "        if player == 0:\n",
    "            choice = self.gen_random_choice(self.rounds)\n",
    "        elif player == 1:\n",
    "            if self.modified:\n",
    "                choice = self.gen_random_choice(self.rounds, options=2)\n",
    "            else:\n",
    "                choice = self.gen_random_choice(self.rounds)\n",
    "        else:\n",
    "            if self.eavesdrop == 1:\n",
    "                choice = [0] * self.rounds # Eve should choose a strategy\n",
    "        self.choices[player] = choice\n",
    "        for i, c in enumerate(choice):\n",
    "            basis = self.basis[player][c]\n",
    "            self.game[i].ry(basis, player)\n",
    "            self.game[i].measure(player, player)\n",
    "            \n",
    "    def retrieve_output(self):\n",
    "        qasm_simulator = Aer.get_backend('qasm_simulator')\n",
    "        for qc in self.game:\n",
    "            result = execute(qc, qasm_simulator, shots=1, memory=True).result()\n",
    "#             print('raw memory:', result.get_memory())\n",
    "            memory = result.get_memory()[0].split()\n",
    "            measured_bit_0 = int(memory[0])\n",
    "            measured_bit_1 = int(memory[1])\n",
    "            \n",
    "            ##add measurement noise\n",
    "            flipm = np.random.choice(2, 2, p = [1-self.meas_noise, self.meas_noise])\n",
    "            if flipm[0] == 1:\n",
    "                if measured_bit_0 == 0:\n",
    "                    measured_bit_0 = 1\n",
    "                else:\n",
    "                    measured_bit_0 = 0\n",
    "            if flipm[1] == 1:\n",
    "                if measured_bit_1 == 0:\n",
    "                    measured_bit_1 = 1\n",
    "                else:\n",
    "                    measured_bit_1 = 0\n",
    "#             print('memory:', memory)\n",
    "            self.output[0].append(measured_bit_0)\n",
    "            self.output[1].append(measured_bit_1)\n",
    "            if self.eavesdrop == 1:\n",
    "                measured_bit_2 = int(memory[2])\n",
    "                self.output[2].append(measured_bit_2)\n",
    "            \n",
    "    def evaluate(self):\n",
    "        # TODO: CHSH inequality\n",
    "        test = [[], [], [], []] #01+02+21-22\n",
    "        test_rounds = self.gen_test_rounds()\n",
    "        key_rounds = []\n",
    "        chsh_prob_numerator = 0\n",
    "        chsh_prob_denominator = 0\n",
    "        for i in range(self.rounds):\n",
    "            if self.choices[0][i] == self.choices[1][i] and self.choices[0][i] != 2:\n",
    "                key_rounds.append(i)\n",
    "                self.raw_key[0].append(self.output[0][i])\n",
    "                self.raw_key[1].append(self.output[1][i])\n",
    "                if self.eavesdrop == 1:\n",
    "                    self.key[2].append(self.output[2][i])\n",
    "                elif self.eavesdrop == 2:\n",
    "                    self.key[2].append(self.output[2][i])\n",
    "                    self.key[3].append(self.output[3][i])\n",
    "                continue\n",
    "                \n",
    "            if not self.modified: # original version\n",
    "                ans = (-1) ** (self.output[0][i] + self.output[1][i])\n",
    "                if self.choices[0][i] == 0 and self.choices[1][i] == 1:\n",
    "                    test[0].append(ans)\n",
    "                elif self.choices[0][i] == 0 and self.choices[1][i] == 2:\n",
    "                    test[1].append(ans)\n",
    "                elif self.choices[0][i] == 2 and self.choices[1][i] == 1:\n",
    "                    test[2].append(ans)\n",
    "                elif self.choices[0][i] == 2 and self.choices[1][i] == 2:\n",
    "                    test[3].append(ans)\n",
    "            else: # modified version\n",
    "                if test_rounds[i] and self.choices[0][i] != 1:\n",
    "                    chsh_prob_denominator += 1\n",
    "                    x = 0 if self.choices[0][i] == 0 else 1\n",
    "                    y = self.choices[1][i] - 1\n",
    "                    a = self.output[0][i]\n",
    "                    b = self.output[1][i]\n",
    "                    chsh_prob_numerator += (x*y == a^b)\n",
    "                \n",
    "        self.key_noise_process()\n",
    "        \n",
    "        # CHSH test --------------------------------------------------\n",
    "        if not self.modified:\n",
    "            avg = [0, 0, 0, 0]\n",
    "            for i in range(4):\n",
    "                item = test[i]\n",
    "                if len(item) > 0:\n",
    "                    avg[i] = sum(item)/len(item)\n",
    "            self.s_val = abs(sum(avg) - 2*avg[3])\n",
    "    #         print(avg)\n",
    "            if self.s_val > 2:\n",
    "                print (\"Pass CHSH test! s value = %f\" % self.s_val)\n",
    "                diff = sum(list(a^b for a,b in zip(game.key[0],game.key[1])))\n",
    "                if not self.modified: print(\"Key length = %d\" %len(game.key[0]))\n",
    "                if diff > 0:\n",
    "                    print(\" Key mismatach! diff: %d/%d\" %(diff, len(game.key[0])))\n",
    "            else:\n",
    "                print (\"Fail CHSH test! s value = %f\" % self.s_val)\n",
    "                diff_ab = sum(list(a^b for a,b in zip(game.key[0],game.key[1])))\n",
    "                if not self.modified: print(\"Key length = %d\" %len(game.key[0]))\n",
    "                if self.eavesdrop == 1:\n",
    "                    diff_ae = sum(list(a^b for a,b in zip(game.key[0],game.key[2])))\n",
    "                    diff_be = sum(list(a^b for a,b in zip(game.key[1],game.key[2])))\n",
    "                    print(\"Key mismatch: %d (a, b), %d (a, e), %d (b, e)\" % (diff_ab, diff_ae, diff_be))\n",
    "    #             if self.eavesdrop == 2:\n",
    "                elif self.eavesdrop == 2:\n",
    "                    diff_ae = sum(list(a^b for a,b in zip(game.key[0],game.key[2])))\n",
    "                    diff_be = sum(list(a^b for a,b in zip(game.key[1],game.key[3])))\n",
    "                    print(\"Key mismatch: %d (a, b), %d (a, e), %d (b, e)\" % (diff_ab, diff_ae, diff_be))\n",
    "        else:\n",
    "            from math import cos\n",
    "            self.chsh_prob = chsh_prob_numerator / chsh_prob_denominator\n",
    "            print(\"==================Modified version=======================\")\n",
    "            if self.chsh_prob >= cos(pi/8) ** 2 - self.eta:\n",
    "                print(\"Pass CHSH test! winning probability = %f\" % self.chsh_prob)\n",
    "            else:\n",
    "                print(\"Fail CHSH test! winning probability = %f\" % self.chsh_prob)\n",
    "                self.abort = True\n",
    "                \n",
    "        # Modified version \n",
    "        if self.modified:\n",
    "            matches = 0\n",
    "            key_test_rounds = 0\n",
    "            self.remaining_key_indices = []\n",
    "            for i, r in enumerate(key_rounds):\n",
    "                if test_rounds[r]: # is a test round && key round\n",
    "                    key_test_rounds += 1\n",
    "                    if self.key[0][i] == self.key[1][i]:\n",
    "                        matches += 1\n",
    "                else: # only key round\n",
    "                    self.remaining_key_indices.append(i)\n",
    "            if key_test_rounds != 0:\n",
    "                resemblance = matches / key_test_rounds\n",
    "                if resemblance < 1 - self.eta:\n",
    "                    print(\"Fail key resemblance test! Key resemblance = %f\" % resemblance)\n",
    "                    self.abort = True\n",
    "                else:\n",
    "                    print(\"Pass key resemblance test! Key resemblance = %f\" % resemblance)\n",
    "            else:\n",
    "                print(\"No key resemblance test.\")\n",
    "                \n",
    "    def cal_key_rate(self):\n",
    "        return len(self.final_key) / self.rounds\n",
    "    \n",
    "    def cal_similarity(self):\n",
    "        numerator = 0\n",
    "#         print(self.remaining_key_rounds)\n",
    "        for i in self.remaining_key_indices:\n",
    "            numerator += 1 - (self.key[0][i] ^ self.key[1][i])\n",
    "        return numerator / len(self.remaining_key_indices)\n",
    "    \n",
    "    def init(self):\n",
    "        self.game = [self.create_round() for _ in range(self.rounds)]\n",
    "        for qc in self.game:\n",
    "            self.create_epr(qc)\n",
    "            if self.eavesdrop == 1:\n",
    "                self.create_eavesdropper(qc)\n",
    "            qc.barrier()\n",
    "            \n",
    "    # ============================ for intercept-resend ==============================\n",
    "    def create_init(self):\n",
    "        ca = QuantumRegister(1, 'charlie_a')\n",
    "        cb = QuantumRegister(1, 'charlie_b')\n",
    "        m_ea = ClassicalRegister(1, 'm_ea')\n",
    "        m_eb = ClassicalRegister(1, 'm_eb')\n",
    "        qc = QuantumCircuit(ca, cb, m_ea, m_eb)\n",
    "        self.create_epr(qc)\n",
    "        qc.barrier()\n",
    "        return qc\n",
    "\n",
    "    def measure_eve(self):\n",
    "        choice = [int.from_bytes(urandom(1), 'big') % 2 for _ in range(self.rounds)]\n",
    "        self.choices[2] = choice\n",
    "        for i, c in enumerate(choice):\n",
    "            basis = self.basis[2][c]\n",
    "            self.game[i].ry(basis, 0)\n",
    "            self.game[i].ry(basis, 1)\n",
    "            self.game[i].measure(0, 0)\n",
    "            self.game[i].measure(1, 1)\n",
    "            \n",
    "    def store_eve(self):\n",
    "        qasm_simulator = Aer.get_backend('qasm_simulator')\n",
    "        for qc in self.game:\n",
    "            result = execute(qc, qasm_simulator, shots=1, memory=True).result()\n",
    "            memory = result.get_memory()[0].split()\n",
    "            measured_bit_0 = int(memory[0])\n",
    "            measured_bit_1 = int(memory[1])\n",
    "            self.output[2].append(measured_bit_0)\n",
    "            self.output[3].append(measured_bit_1)\n",
    "    \n",
    "    def create_fake(self):\n",
    "        fa = QuantumRegister(1, 'fake_alice')\n",
    "        fb = QuantumRegister(1, 'fake_bob')\n",
    "        m_a = ClassicalRegister(1, 'm_a')\n",
    "        m_b = ClassicalRegister(1, 'm_b')\n",
    "        qc = QuantumCircuit(fa, fb, m_a, m_b)\n",
    "        return qc\n",
    "        \n",
    "    def resend(self):\n",
    "        self.game = [self.create_fake() for _ in range(self.rounds)]\n",
    "        for i in range(self.rounds):\n",
    "            if self.output[2][i]:\n",
    "                self.game[i].x(0)\n",
    "            if self.output[3][i]:\n",
    "                self.game[i].x(1)\n",
    "            self.game[i].barrier()\n",
    "    \n",
    "    def intercept_resend(self):\n",
    "        self.game = [self.create_init() for _ in range(self.rounds)]\n",
    "        self.measure_eve()\n",
    "        self.store_eve()\n",
    "        self.resend()\n",
    "    # ================================================================================\n",
    "    def start(self):\n",
    "        if self.eavesdrop == 2:\n",
    "            self.intercept_resend()\n",
    "        else:\n",
    "            self.init()\n",
    "        self.measure(0) # Alice measure\n",
    "        self.measure(1) # Bob measure\n",
    "        if self.eavesdrop == 1: \n",
    "            self.measure(2) # Eve measure\n",
    "        self.retrieve_output()\n",
    "        self.evaluate()"
   ]
  },
  {
   "cell_type": "code",
   "execution_count": 103,
   "id": "9cd509dd",
   "metadata": {},
   "outputs": [
    {
     "name": "stdout",
     "output_type": "stream",
     "text": [
      "Pass CHSH test! s value = 2.721383\n",
      "Key length = 226\n"
     ]
    }
   ],
   "source": [
    "rounds = 1000\n",
    "game = CHSH_game(rounds, 0)\n",
    "game.start()"
   ]
  },
  {
   "cell_type": "code",
   "execution_count": 99,
   "id": "c685159c",
   "metadata": {},
   "outputs": [
    {
     "name": "stdout",
     "output_type": "stream",
     "text": [
      "[0.7345132743362832, 0.6153846153846154, 0.7636363636363637, 0.7087378640776699]\n",
      "Fail CHSH test! s value = 1.404796\n",
      "Key length = 221\n",
      "Key mismatch: 13 (a, b), 18 (a, e), 27 (b, e)\n"
     ]
    }
   ],
   "source": [
    "rounds = 1000\n",
    "game = CHSH_game(rounds, 1)\n",
    "game.start()"
   ]
  },
  {
   "cell_type": "code",
   "execution_count": 12,
   "id": "cffa5d6c",
   "metadata": {},
   "outputs": [
    {
     "name": "stdout",
     "output_type": "stream",
     "text": [
      "Fail CHSH test! s value = 1.715887\n",
      "Key length = 215\n",
      "Key mismatch: 24 (a, b), 16 (a, e), 30 (b, e)\n"
     ]
    }
   ],
   "source": [
    "rounds = 1000\n",
    "game = CHSH_game(rounds, 1)\n",
    "game.start()"
   ]
  },
  {
   "cell_type": "code",
   "execution_count": 10,
   "id": "f29fc3c7",
   "metadata": {},
   "outputs": [
    {
     "data": {
      "image/png": "[encoded data removed]",
      "text/plain": [
       "<Figure size 736.792x451.5 with 1 Axes>"
      ]
     },
     "execution_count": 10,
     "metadata": {},
     "output_type": "execute_result"
    }
   ],
   "source": [
    "game.game[0].draw(output='mpl')"
   ]
  },
  {
   "cell_type": "code",
   "execution_count": 12,
   "id": "0299da01",
   "metadata": {},
   "outputs": [
    {
     "name": "stdout",
     "output_type": "stream",
     "text": [
      "Fail CHSH test! s value = 1.204831\n",
      "Key length = 209\n",
      "Key mismatch: 29 (a, b), 14 (a, e), 19 (b, e)\n"
     ]
    }
   ],
   "source": [
    "rounds = 1000\n",
    "game = CHSH_game(rounds, 2)\n",
    "game.start()"
   ]
  },
  {
   "cell_type": "code",
   "execution_count": 13,
   "id": "1ddf2471",
   "metadata": {},
   "outputs": [
    {
     "data": {
      "image/png": "[encoded data removed]",
      "text/plain": [
       "<Figure size 405.274x264.88 with 1 Axes>"
      ]
     },
     "execution_count": 13,
     "metadata": {},
     "output_type": "execute_result"
    }
   ],
   "source": [
    "game.game[1].draw(output = 'mpl')"
   ]
  },
  {
   "cell_type": "code",
   "execution_count": 29,
   "id": "6d69b15d",
   "metadata": {},
   "outputs": [
    {
     "name": "stdout",
     "output_type": "stream",
     "text": [
      "Pass CHSH test! s value = 2.928714\n",
      "Key length = 201\n"
     ]
    }
   ],
   "source": [
    "rounds = 1000\n",
    "game = CHSH_game(rounds, eavesdrop=0, key_noise=0, meas_noise=0, ch_noise=0, modified=False, gamma=0, eta=0)\n",
    "game.start()"
   ]
  },
  {
   "cell_type": "code",
   "execution_count": 107,
   "id": "c95640aa",
   "metadata": {},
   "outputs": [
    {
     "name": "stdout",
     "output_type": "stream",
     "text": [
      "==================Modified version=======================\n",
      "Pass CHSH test! winning probability = 0.944444\n",
      "Pass key resemblance test! Key resemblance = 1.000000\n",
      "1.0\n"
     ]
    }
   ],
   "source": [
    "rounds = 1000\n",
    "game = CHSH_game(rounds, key_noise=noise, modified=True, gamma=0.05, eta=0.05)\n",
    "game.start()\n",
    "print(game.cal_similarity())"
   ]
  },
  {
   "cell_type": "code",
   "execution_count": 105,
   "id": "00b7161b",
   "metadata": {},
   "outputs": [
    {
     "name": "stdout",
     "output_type": "stream",
     "text": [
      "1.0\n"
     ]
    }
   ],
   "source": [
    "print(noise)"
   ]
  },
  {
   "cell_type": "code",
   "execution_count": 116,
   "id": "778d5685",
   "metadata": {},
   "outputs": [],
   "source": [
    "import matplotlib.pyplot as plt\n",
    "plt.rcParams['text.usetex'] = True"
   ]
  },
  {
   "cell_type": "code",
   "execution_count": 108,
   "id": "55e53a2e",
   "metadata": {},
   "outputs": [],
   "source": [
    "rounds = 1000\n",
    "gamma = 0.05\n",
    "eta = 0.05"
   ]
  },
  {
   "cell_type": "code",
   "execution_count": 86,
   "id": "98e2d7f8",
   "metadata": {},
   "outputs": [
    {
     "name": "stdout",
     "output_type": "stream",
     "text": [
      "[1.0, 1.0, 1.0, -1.0]\n",
      "Pass CHSH test! s value = 4.000000\n",
      "Pass key resemblance test! Key resemblance = 1.000000\n",
      "[1.0, 0, 0, -1.0]\n",
      "Fail CHSH test! s value = 2.000000\n",
      "Pass key resemblance test! Key resemblance = 1.000000\n",
      "[1.0, 0, 0.0, 0.3333333333333333]\n",
      "Fail CHSH test! s value = 0.666667\n",
      "Pass key resemblance test! Key resemblance = 1.000000\n",
      "[1.0, 0, 0, 0]\n",
      "Fail CHSH test! s value = 1.000000\n",
      "Pass key resemblance test! Key resemblance = 1.000000\n",
      "[1.0, 0.0, 1.0, 0]\n",
      "Fail CHSH test! s value = 2.000000\n",
      "Pass key resemblance test! Key resemblance = 1.000000\n",
      "[1.0, 1.0, 1.0, -1.0]\n",
      "Pass CHSH test! s value = 4.000000\n",
      " Key mismatach! diff: 75/179\n",
      "No key resemblance test.\n",
      "[-0.2, 1.0, 1.0, 0]\n",
      "Fail CHSH test! s value = 1.800000\n",
      "No key resemblance test.\n",
      "[1.0, -1.0, 0, -1.0]\n",
      "Fail CHSH test! s value = 1.000000\n",
      "Fail key resemblance test! Key resemblance = 0.500000\n",
      "[1.0, 1.0, 1.0, -1.0]\n",
      "Pass CHSH test! s value = 4.000000\n",
      " Key mismatach! diff: 79/157\n",
      "Fail key resemblance test! Key resemblance = 0.000000\n",
      "[0, 1.0, 1.0, -1.0]\n",
      "Pass CHSH test! s value = 3.000000\n",
      " Key mismatach! diff: 81/160\n",
      "Fail key resemblance test! Key resemblance = 0.500000\n",
      "[0.0, 1.0, -1.0, -1.0]\n",
      "Fail CHSH test! s value = 1.000000\n",
      "No key resemblance test.\n",
      "[1.0, 1.0, 1.0, 0.0]\n",
      "Pass CHSH test! s value = 3.000000\n",
      " Key mismatach! diff: 77/165\n",
      "Fail key resemblance test! Key resemblance = 0.333333\n",
      "[0.3333333333333333, -0.5, 0, -1.0]\n",
      "Fail CHSH test! s value = 0.833333\n",
      "Fail key resemblance test! Key resemblance = 0.500000\n",
      "[1.0, 1.0, 1.0, -1.0]\n",
      "Pass CHSH test! s value = 4.000000\n",
      " Key mismatach! diff: 79/164\n",
      "Pass key resemblance test! Key resemblance = 1.000000\n",
      "[1.0, 1.0, 0.0, -1.0]\n",
      "Pass CHSH test! s value = 3.000000\n",
      " Key mismatach! diff: 80/184\n",
      "Fail key resemblance test! Key resemblance = 0.666667\n",
      "[0, 1.0, 1.0, -1.0]\n",
      "Pass CHSH test! s value = 3.000000\n",
      " Key mismatach! diff: 34/142\n",
      "No key resemblance test.\n",
      "[-1.0, 0.0, 0.3333333333333333, 0]\n",
      "Fail CHSH test! s value = 0.666667\n",
      "Pass key resemblance test! Key resemblance = 1.000000\n",
      "[0.0, 1.0, 1.0, 0]\n",
      "Fail CHSH test! s value = 2.000000\n",
      "Pass key resemblance test! Key resemblance = 1.000000\n",
      "[1.0, 1.0, 0, 0]\n",
      "Fail CHSH test! s value = 2.000000\n",
      "Pass key resemblance test! Key resemblance = 1.000000\n",
      "[1.0, 1.0, 0, -1.0]\n",
      "Pass CHSH test! s value = 3.000000\n",
      "Pass key resemblance test! Key resemblance = 1.000000\n"
     ]
    }
   ],
   "source": [
    "# No attack, original protocol\n",
    "rounds = 1000\n",
    "key_noise_similarity = []\n",
    "key_noise_chsh_probs = []\n",
    "for noise in np.linspace(0, 1, num=20):\n",
    "    game = CHSH_game(rounds, key_noise=noise, modified=True, gamma=gamma, eta=eta)\n",
    "    game.start()\n",
    "    key_noise_chsh_probs.append(game.chsh_prob)\n",
    "    key_noise_similarity.append(game.cal_similarity())"
   ]
  },
  {
   "cell_type": "code",
   "execution_count": 125,
   "id": "5313f8b2",
   "metadata": {},
   "outputs": [
    {
     "name": "stdout",
     "output_type": "stream",
     "text": [
      "==================Modified version=======================\n",
      "Pass CHSH test! winning probability = 0.868421\n",
      "Pass key resemblance test! Key resemblance = 1.000000\n",
      "==================Modified version=======================\n",
      "Pass CHSH test! winning probability = 0.870968\n",
      "Fail key resemblance test! Key resemblance = 0.818182\n",
      "==================Modified version=======================\n",
      "Fail CHSH test! winning probability = 0.685714\n",
      "Fail key resemblance test! Key resemblance = 0.769231\n",
      "==================Modified version=======================\n",
      "Fail CHSH test! winning probability = 0.538462\n",
      "Fail key resemblance test! Key resemblance = 0.571429\n",
      "==================Modified version=======================\n",
      "Fail CHSH test! winning probability = 0.642857\n",
      "Fail key resemblance test! Key resemblance = 0.545455\n",
      "==================Modified version=======================\n",
      "Fail CHSH test! winning probability = 0.341463\n",
      "Fail key resemblance test! Key resemblance = 0.700000\n",
      "==================Modified version=======================\n",
      "Fail CHSH test! winning probability = 0.482759\n",
      "Fail key resemblance test! Key resemblance = 0.500000\n",
      "==================Modified version=======================\n",
      "Fail CHSH test! winning probability = 0.545455\n",
      "Fail key resemblance test! Key resemblance = 0.500000\n",
      "==================Modified version=======================\n",
      "Fail CHSH test! winning probability = 0.541667\n",
      "Fail key resemblance test! Key resemblance = 0.333333\n",
      "==================Modified version=======================\n",
      "Fail CHSH test! winning probability = 0.390244\n",
      "Fail key resemblance test! Key resemblance = 0.428571\n",
      "==================Modified version=======================\n",
      "Fail CHSH test! winning probability = 0.542857\n",
      "Fail key resemblance test! Key resemblance = 0.375000\n",
      "==================Modified version=======================\n",
      "Fail CHSH test! winning probability = 0.531250\n",
      "Fail key resemblance test! Key resemblance = 0.375000\n",
      "==================Modified version=======================\n",
      "Fail CHSH test! winning probability = 0.483871\n",
      "Fail key resemblance test! Key resemblance = 0.666667\n",
      "==================Modified version=======================\n",
      "Fail CHSH test! winning probability = 0.515152\n",
      "Fail key resemblance test! Key resemblance = 0.375000\n",
      "==================Modified version=======================\n",
      "Fail CHSH test! winning probability = 0.500000\n",
      "Fail key resemblance test! Key resemblance = 0.285714\n",
      "==================Modified version=======================\n",
      "Fail CHSH test! winning probability = 0.720000\n",
      "Fail key resemblance test! Key resemblance = 0.625000\n",
      "==================Modified version=======================\n",
      "Fail CHSH test! winning probability = 0.720000\n",
      "Fail key resemblance test! Key resemblance = 0.714286\n",
      "==================Modified version=======================\n",
      "Fail CHSH test! winning probability = 0.740741\n",
      "Fail key resemblance test! Key resemblance = 0.666667\n",
      "==================Modified version=======================\n",
      "Pass CHSH test! winning probability = 0.931034\n",
      "Pass key resemblance test! Key resemblance = 1.000000\n",
      "==================Modified version=======================\n",
      "Pass CHSH test! winning probability = 0.848485\n",
      "Pass key resemblance test! Key resemblance = 1.000000\n"
     ]
    }
   ],
   "source": [
    "measure_noise_similarity = []\n",
    "measure_noise_chsh_probs = []\n",
    "measure_noise_abort = []\n",
    "for noise in np.linspace(0, 1, num=20):\n",
    "    game = CHSH_game(rounds, meas_noise=noise, modified=True, gamma=gamma, eta=eta)\n",
    "    game.start()\n",
    "    measure_noise_chsh_probs.append(game.chsh_prob)\n",
    "    measure_noise_similarity.append(game.cal_similarity())\n",
    "    measure_noise_abort.append(game.abort)"
   ]
  },
  {
   "cell_type": "code",
   "execution_count": 112,
   "id": "67f767e1",
   "metadata": {},
   "outputs": [
    {
     "name": "stdout",
     "output_type": "stream",
     "text": [
      "==================Modified version=======================\n",
      "Pass CHSH test! winning probability = 0.864865\n",
      "Pass key resemblance test! Key resemblance = 1.000000\n",
      "==================Modified version=======================\n",
      "Pass CHSH test! winning probability = 0.814815\n",
      "Pass key resemblance test! Key resemblance = 1.000000\n",
      "==================Modified version=======================\n",
      "Pass CHSH test! winning probability = 0.864865\n",
      "Pass key resemblance test! Key resemblance = 1.000000\n",
      "==================Modified version=======================\n",
      "Fail CHSH test! winning probability = 0.789474\n",
      "Pass key resemblance test! Key resemblance = 1.000000\n",
      "==================Modified version=======================\n",
      "Fail CHSH test! winning probability = 0.764706\n",
      "Fail key resemblance test! Key resemblance = 0.750000\n",
      "==================Modified version=======================\n",
      "Fail CHSH test! winning probability = 0.787879\n",
      "Fail key resemblance test! Key resemblance = 0.888889\n",
      "==================Modified version=======================\n",
      "Fail CHSH test! winning probability = 0.642857\n",
      "Fail key resemblance test! Key resemblance = 0.714286\n",
      "==================Modified version=======================\n",
      "Fail CHSH test! winning probability = 0.656250\n",
      "Fail key resemblance test! Key resemblance = 0.625000\n",
      "==================Modified version=======================\n",
      "Fail CHSH test! winning probability = 0.675000\n",
      "Fail key resemblance test! Key resemblance = 0.833333\n",
      "==================Modified version=======================\n",
      "Fail CHSH test! winning probability = 0.710526\n",
      "Fail key resemblance test! Key resemblance = 0.500000\n",
      "==================Modified version=======================\n",
      "Fail CHSH test! winning probability = 0.558824\n",
      "Fail key resemblance test! Key resemblance = 0.222222\n",
      "==================Modified version=======================\n",
      "Fail CHSH test! winning probability = 0.475000\n",
      "Fail key resemblance test! Key resemblance = 0.250000\n",
      "==================Modified version=======================\n",
      "Fail CHSH test! winning probability = 0.657143\n",
      "Fail key resemblance test! Key resemblance = 0.142857\n",
      "==================Modified version=======================\n",
      "Fail CHSH test! winning probability = 0.742857\n",
      "Fail key resemblance test! Key resemblance = 0.400000\n",
      "==================Modified version=======================\n",
      "Fail CHSH test! winning probability = 0.583333\n",
      "Fail key resemblance test! Key resemblance = 0.400000\n",
      "==================Modified version=======================\n",
      "Fail CHSH test! winning probability = 0.636364\n",
      "Fail key resemblance test! Key resemblance = 0.000000\n",
      "==================Modified version=======================\n",
      "Fail CHSH test! winning probability = 0.516129\n",
      "Fail key resemblance test! Key resemblance = 0.111111\n",
      "==================Modified version=======================\n",
      "Fail CHSH test! winning probability = 0.379310\n",
      "Fail key resemblance test! Key resemblance = 0.100000\n",
      "==================Modified version=======================\n",
      "Fail CHSH test! winning probability = 0.593750\n",
      "Fail key resemblance test! Key resemblance = 0.000000\n",
      "==================Modified version=======================\n",
      "Fail CHSH test! winning probability = 0.424242\n",
      "Fail key resemblance test! Key resemblance = 0.000000\n"
     ]
    }
   ],
   "source": [
    "channel_noise_similarity = []\n",
    "channel_noise_chsh_probs = []\n",
    "channel_noise_abort = []\n",
    "for noise in np.linspace(0, 1, num=20):\n",
    "    game = CHSH_game(rounds, ch_noise=noise, modified=True, gamma=gamma, eta=eta)\n",
    "    game.start()\n",
    "    channel_noise_chsh_probs.append(game.chsh_prob)\n",
    "    channel_noise_similarity.append(game.cal_similarity())\n",
    "    channel_noise_abort.append(game.abort)"
   ]
  },
  {
   "cell_type": "code",
   "execution_count": 133,
   "id": "ed9056ae",
   "metadata": {},
   "outputs": [
    {
     "data": {
      "image/png": "[encoded data removed]",
      "text/plain": [
       "<Figure size 640x480 with 1 Axes>"
      ]
     },
     "metadata": {},
     "output_type": "display_data"
    }
   ],
   "source": [
    "x_axis = np.linspace(0, 1, num=20)\n",
    "# plt.plot(x_axis, key_noise_similarity, label='key noise')\n",
    "threshold = [1 - eta] * 20\n",
    "plt.plot(x_axis, measure_noise_similarity, label='measurement noise', color='tab:blue')\n",
    "plt.scatter(x_axis, measure_noise_similarity, color='tab:blue')\n",
    "plt.plot(x_axis, channel_noise_similarity, label='channel noise', color='tab:orange')\n",
    "plt.scatter(x_axis, channel_noise_similarity, color='tab:orange')\n",
    "plt.plot(x_axis, threshold, label=r'threshold: 1 - $\\eta$', color='tab:red')\n",
    "plt.xlabel('Noise rate')\n",
    "plt.ylabel('Similarity')\n",
    "plt.legend()\n",
    "plt.show()"
   ]
  },
  {
   "cell_type": "code",
   "execution_count": 134,
   "id": "6d91212b",
   "metadata": {},
   "outputs": [
    {
     "data": {
      "image/png": "[encoded data removed]",
      "text/plain": [
       "<Figure size 640x480 with 1 Axes>"
      ]
     },
     "metadata": {},
     "output_type": "display_data"
    }
   ],
   "source": [
    "from math import cos\n",
    "threshold = [cos(pi/8)**2 - eta] * 20\n",
    "plt.plot(x_axis, measure_noise_chsh_probs, label='measurement noise', color='tab:blue')\n",
    "plt.scatter(x_axis, measure_noise_chsh_probs, color='tab:blue')\n",
    "plt.plot(x_axis, channel_noise_chsh_probs, label='channel noise', color='tab:orange')\n",
    "plt.scatter(x_axis, channel_noise_chsh_probs, color='tab:orange')\n",
    "plt.plot(x_axis, threshold, label=r'threshold: $cos^{2}(\\pi/8)$ - $\\eta$', color='tab:red')\n",
    "plt.xlabel('Noise rate')\n",
    "plt.ylabel('Winning probability')\n",
    "plt.legend()\n",
    "plt.show()"
   ]
  },
  {
   "cell_type": "code",
   "execution_count": 123,
   "id": "c665d3c4",
   "metadata": {},
   "outputs": [
    {
     "name": "stdout",
     "output_type": "stream",
     "text": [
      "[False, False, False, True, True, True, True, True, True, True, True, True, True, True, True, True, True, True, True, True]\n"
     ]
    }
   ],
   "source": [
    "print(channel_noise_abort)"
   ]
  },
  {
   "cell_type": "code",
   "execution_count": 135,
   "id": "8a9611b8",
   "metadata": {},
   "outputs": [
    {
     "data": {
      "image/png": "[encoded data removed]",
      "text/plain": [
       "<Figure size 640x480 with 1 Axes>"
      ]
     },
     "metadata": {},
     "output_type": "display_data"
    }
   ],
   "source": [
    "plt.plot(x_axis, measure_noise_abort, label='measurement noise', color='tab:blue')\n",
    "plt.scatter(x_axis, measure_noise_abort, color='tab:blue')\n",
    "plt.plot(x_axis, channel_noise_abort, label='channel noise', color='tab:orange')\n",
    "plt.scatter(x_axis, channel_noise_abort, color='tab:orange')\n",
    "plt.xlabel('Noise rate')\n",
    "plt.ylabel('Abort')\n",
    "plt.legend()\n",
    "plt.show()"
   ]
  },
  {
   "cell_type": "code",
   "execution_count": 136,
   "id": "84064ef2",
   "metadata": {},
   "outputs": [
    {
     "name": "stdout",
     "output_type": "stream",
     "text": [
      "==================Modified version=======================\n",
      "Fail CHSH test! winning probability = 0.464286\n",
      "Fail key resemblance test! Key resemblance = 0.000000\n",
      "0.4642857142857143\n",
      "0.0\n",
      "True\n"
     ]
    }
   ],
   "source": [
    "game = CHSH_game(rounds, ch_noise=noise, modified=True, gamma=gamma, eta=eta)\n",
    "game.start()\n",
    "print(game.chsh_prob)\n",
    "print(game.cal_similarity())\n",
    "print(game.abort)"
   ]
  },
  {
   "cell_type": "code",
   "execution_count": 137,
   "id": "bdb38ef1",
   "metadata": {},
   "outputs": [
    {
     "name": "stdout",
     "output_type": "stream",
     "text": [
      "[[0, 0, 0, 1, 1, 1, 1, 1, 1, 0, 1, 0, 1, 0, 1, 0, 1, 1, 0, 0, 1, 1, 1, 1, 1, 1, 1, 1, 1, 1, 1, 0, 0, 1, 0, 0, 0, 1, 1, 0, 0, 0, 0, 0, 1, 0, 0, 1, 0, 0, 0, 1, 1, 0, 0, 0, 0, 1, 1, 1, 1, 1, 0, 0, 1, 0, 1, 0, 1, 1, 0, 1, 0, 1, 0, 1, 0, 0, 1, 0, 0, 0, 0, 1, 0, 0, 1, 0, 0, 0, 0, 1, 0, 1, 1, 1, 0, 0, 1, 0, 1, 0, 0, 0, 1, 0, 0, 0, 0, 0, 0, 1, 0, 0, 0, 1, 1, 0, 0, 0, 0, 0, 1, 1, 0, 0, 1, 0, 0, 0, 0, 1, 1, 0, 0, 0, 1, 1, 1, 1, 0, 1, 1, 1, 1, 1, 0, 0, 1, 1, 1, 1, 0, 0, 1, 1, 0, 1, 1, 1, 1, 1, 1, 0, 1, 1, 0, 0, 0, 0], [1, 1, 1, 0, 0, 0, 0, 0, 0, 1, 0, 1, 0, 1, 0, 1, 0, 0, 1, 1, 0, 0, 0, 0, 0, 0, 0, 0, 0, 0, 0, 1, 1, 0, 1, 1, 1, 0, 0, 1, 1, 1, 1, 1, 0, 1, 1, 0, 1, 1, 1, 0, 0, 1, 1, 1, 1, 0, 0, 0, 0, 0, 1, 1, 0, 1, 0, 1, 0, 0, 1, 0, 1, 0, 1, 0, 1, 1, 0, 1, 1, 1, 1, 0, 1, 1, 0, 1, 1, 1, 1, 0, 1, 0, 0, 0, 1, 1, 0, 1, 0, 1, 1, 1, 0, 1, 1, 1, 1, 1, 1, 0, 1, 1, 1, 0, 0, 1, 1, 1, 1, 1, 0, 0, 1, 1, 0, 1, 1, 1, 1, 0, 0, 1, 1, 1, 0, 0, 0, 0, 1, 0, 0, 0, 0, 0, 1, 1, 0, 0, 0, 0, 1, 1, 0, 0, 1, 0, 0, 0, 0, 0, 0, 1, 0, 0, 1, 1, 1, 1]]\n"
     ]
    }
   ],
   "source": [
    "print(game.key)"
   ]
  },
  {
   "cell_type": "code",
   "execution_count": 140,
   "id": "8da7d40f",
   "metadata": {},
   "outputs": [
    {
     "name": "stdout",
     "output_type": "stream",
     "text": [
      "0\n",
      "170\n"
     ]
    }
   ],
   "source": [
    "test = [game.key[0][i] == game.key[1][i] for i in range(len(game.key[0]))]\n",
    "print(sum(test))\n",
    "print(len(game.key[0]))"
   ]
  },
  {
   "cell_type": "code",
   "execution_count": 141,
   "id": "3a21cb46",
   "metadata": {},
   "outputs": [
    {
     "name": "stdout",
     "output_type": "stream",
     "text": [
      "[False, False, False, False, False, False, False, False, False, False, False, False, False, False, False, False, False, False, False, False, False, False, False, False, False, False, False, False, False, False, False, False, False, False, False, False, False, False, False, False, False, False, False, False, False, False, False, False, False, False, False, False, False, False, False, False, False, False, False, False, False, False, False, False, False, False, False, False, False, False, False, False, False, False, False, False, False, False, False, False, False, False, False, False, False, False, False, False, False, False, False, False, False, False, False, False, False, False, False, False, False, False, False, False, False, False, False, False, False, False, False, False, False, False, False, False, False, False, False, False, False, False, False, False, False, False, False, False, False, False, False, False, False, False, False, False, False, False, False, False, False, False, False, False, False, False, False, False, False, False, False, False, False, False, False, False, False, False, False, False, False, False, False, False, False, False, False, False, False, False]\n"
     ]
    }
   ],
   "source": [
    "print(test)"
   ]
  },
  {
   "cell_type": "code",
   "execution_count": null,
   "id": "6a2dba85",
   "metadata": {},
   "outputs": [],
   "source": []
  }
 ],
 "metadata": {
  "kernelspec": {
   "display_name": "Python 3 (ipykernel)",
   "language": "python",
   "name": "python3"
  },
  "language_info": {
   "codemirror_mode": {
    "name": "ipython",
    "version": 3
   },
   "file_extension": ".py",
   "mimetype": "text/x-python",
   "name": "python",
   "nbconvert_exporter": "python",
   "pygments_lexer": "ipython3",
   "version": "3.10.4"
  }
 },
 "nbformat": 4,
 "nbformat_minor": 5
}
